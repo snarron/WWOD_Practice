{
 "metadata": {
  "name": "Day_08_starter"
 },
 "nbformat": 3,
 "nbformat_minor": 0,
 "worksheets": [
  {
   "cells": [
    {
     "cell_type": "heading",
     "level": 1,
     "metadata": {},
     "source": [
      "Goals"
     ]
    },
    {
     "cell_type": "markdown",
     "metadata": {},
     "source": [
      "To accomplish in this problem set\n",
      "\n",
      "* more elegant operations with Pandas\n",
      "* get a start at plotting with matplotlib\n",
      "* learning how to use groupby to compare aggregates with stated totals\n"
     ]
    },
    {
     "cell_type": "heading",
     "level": 1,
     "metadata": {},
     "source": [
      "Preliminaries"
     ]
    },
    {
     "cell_type": "markdown",
     "metadata": {},
     "source": [
      "Do pandas imports and set up variables for accessing census data sets"
     ]
    },
    {
     "cell_type": "code",
     "collapsed": false,
     "input": [
      "import pandas as pd\n",
      "from pandas import Series, DataFrame"
     ],
     "language": "python",
     "metadata": {},
     "outputs": []
    },
    {
     "cell_type": "code",
     "collapsed": false,
     "input": [
      "import os\n",
      "\n",
      "DATA_DIR = os.path.join(os.pardir, \"data\")"
     ],
     "language": "python",
     "metadata": {},
     "outputs": []
    },
    {
     "cell_type": "code",
     "collapsed": false,
     "input": [
      "# see what's in the directory using os.walk\n",
      "\n",
      "list(os.walk(os.path.join(DATA_DIR, \"census\")))"
     ],
     "language": "python",
     "metadata": {},
     "outputs": []
    },
    {
     "cell_type": "code",
     "collapsed": false,
     "input": [
      "# do shell command for linux/mac -- sorry windows users\n",
      "\n",
      "!ls $DATA_DIR/census/*"
     ],
     "language": "python",
     "metadata": {},
     "outputs": []
    },
    {
     "cell_type": "heading",
     "level": 1,
     "metadata": {},
     "source": [
      "More elegant manipulation of census DataFrame"
     ]
    },
    {
     "cell_type": "heading",
     "level": 2,
     "metadata": {},
     "source": [
      "Confirm again the assumed relative placement of files"
     ]
    },
    {
     "cell_type": "code",
     "collapsed": false,
     "input": [
      "import os\n",
      "\n",
      "# relative to parent dir\n",
      "DATA_FILES = {\"datadict\":\"data/census/DataDict.txt\",\n",
      "               \"dataset\":\"data/census/DataSet.txt\",\n",
      "               \"fips\": \"data/census/FIPS_CountyName.txt\"}\n",
      "\n",
      "def file_path(key):\n",
      "    return os.path.join(os.pardir, DATA_FILES[key])\n",
      "\n",
      "for file_key in DATA_FILES.keys():\n",
      "    abs_fname = file_path(file_key)\n",
      "    assert os.path.exists(abs_fname) is True"
     ],
     "language": "python",
     "metadata": {},
     "outputs": []
    },
    {
     "cell_type": "heading",
     "level": 2,
     "metadata": {},
     "source": [
      "Construct fips_df"
     ]
    },
    {
     "cell_type": "code",
     "collapsed": false,
     "input": [
      "import codecs\n",
      "from itertools import islice\n",
      "\n",
      "from pandas import Series, DataFrame\n",
      "\n",
      "f = codecs.open(file_path(\"fips\"), encoding='iso-8859-1')\n",
      "\n",
      "fips_list = list()\n",
      "\n",
      "for row in islice(f, None):\n",
      "    fips_list.append({'fips': row[:5], 'geog_entity': row[6:-1]})\n",
      "    \n",
      "fips_df = DataFrame(fips_list)\n",
      "\n",
      "# print out first 5 rows\n",
      "fips_df[:5]"
     ],
     "language": "python",
     "metadata": {},
     "outputs": []
    },
    {
     "cell_type": "heading",
     "level": 2,
     "metadata": {},
     "source": [
      "EXERCISE: add to fips_df a fips_prefix column, which is the first 2 digits in fips"
     ]
    },
    {
     "cell_type": "markdown",
     "metadata": {},
     "source": [
      "e.g., 06 fo California"
     ]
    },
    {
     "cell_type": "code",
     "collapsed": false,
     "input": [
      "# FILL IN YOUR CODE\n",
      "\n",
      "\n",
      "\n"
     ],
     "language": "python",
     "metadata": {},
     "outputs": []
    },
    {
     "cell_type": "code",
     "collapsed": false,
     "input": [
      "# TEST\n",
      "\n",
      "assert np.all(fips_df[fips_df.fips == '00000']['fips_prefix'] == '00')\n",
      "assert np.all(fips_df[fips_df.fips == '06000']['fips_prefix'] == '06')\n",
      "assert np.all(fips_df[fips_df.fips == '06001']['fips_prefix'] == '06')"
     ],
     "language": "python",
     "metadata": {},
     "outputs": []
    },
    {
     "cell_type": "heading",
     "level": 2,
     "metadata": {},
     "source": [
      "EXERCISE: add to fips_df a geog_type column ('country', 'state', or 'county')"
     ]
    },
    {
     "cell_type": "markdown",
     "metadata": {},
     "source": [
      "### Hints\n",
      "\n",
      "Consider using [np.where](http://docs.scipy.org/doc/numpy/reference/generated/numpy.where.html)\n",
      "\n",
      "and look at *PfDA*, pp. 98-100\n",
      "\n",
      "How to take\n",
      "\n",
      "> `np.where(fips_df.fips.str[-3:] != '000', 'county', 'is_not_county')`\n",
      "\n",
      "and add one more np.where to differentiate between US and states?"
     ]
    },
    {
     "cell_type": "code",
     "collapsed": false,
     "input": [
      "# FILL IN YOUR CODE\n",
      "\n",
      "\n"
     ],
     "language": "python",
     "metadata": {},
     "outputs": []
    },
    {
     "cell_type": "code",
     "collapsed": false,
     "input": [
      "# TEST\n",
      "\n",
      "# check specific values\n",
      "\n",
      "assert fips_df[fips_df.fips == '00000']['geog_type'] == 'country'\n",
      "assert fips_df[fips_df.fips == '06000']['geog_type'] == 'state'\n",
      "assert fips_df[fips_df.fips == '06001']['geog_type'] == 'county'\n",
      "\n",
      "\n",
      "# check the numbers of various geog_type\n",
      "\n",
      "assert set(fips_df.geog_type.value_counts().iteritems()) == set([('state', 51), ('country', 1), ('county', 3143)])"
     ],
     "language": "python",
     "metadata": {},
     "outputs": []
    },
    {
     "cell_type": "heading",
     "level": 2,
     "metadata": {},
     "source": [
      "Let's load the dataset and construct df -- should be familiar stuff by now"
     ]
    },
    {
     "cell_type": "code",
     "collapsed": false,
     "input": [
      "# let's try pd.read_csv \n",
      "# how to give hints about data type to pd.read_csv?\n",
      "\n",
      "import codecs\n",
      "\n",
      "# let's try object for fips and int for POP010210\n",
      "dtype = {'fips':'S5', 'POP010210':np.int}\n",
      "\n",
      "f = codecs.open(file_path(\"dataset\"), encoding='iso-8859-1')\n",
      "dataset_df = pd.read_csv(f, dtype=dtype)\n",
      "df = pd.merge(fips_df, dataset_df)"
     ],
     "language": "python",
     "metadata": {},
     "outputs": []
    },
    {
     "cell_type": "code",
     "collapsed": false,
     "input": [
      "df[['fips', 'geog_entity', 'geog_type', 'POP010210']][:5]"
     ],
     "language": "python",
     "metadata": {},
     "outputs": []
    },
    {
     "cell_type": "heading",
     "level": 1,
     "metadata": {},
     "source": [
      "Working with state populations"
     ]
    },
    {
     "cell_type": "heading",
     "level": 2,
     "metadata": {},
     "source": [
      "EXERCISE:  calculate a DataFrame called top_five_states_by_pop w/ 5 most populous states"
     ]
    },
    {
     "cell_type": "markdown",
     "metadata": {},
     "source": [
      "Requirement for `top_five_states_by_pop` DataFrame:\n",
      "\n",
      "* has only 5 rows\n",
      "* has two columns:  `geog_entity`, `POP010210`\n",
      "\n",
      "Hints:\n",
      "\n",
      "* you might want to make use of [`sort_index`](http://pandas.pydata.org/pandas-docs/dev/generated/pandas.DataFrame.sort_index.html)"
     ]
    },
    {
     "cell_type": "code",
     "collapsed": false,
     "input": [
      "# FILL IN YOUR CODE for top_five_states_by_pop\n",
      "\n",
      "\n",
      "\n"
     ],
     "language": "python",
     "metadata": {},
     "outputs": []
    },
    {
     "cell_type": "code",
     "collapsed": false,
     "input": [
      "# TEST\n",
      "# 5 rows, column values, and specific values\n",
      "\n",
      "assert len(top_five_states_by_pop) == 5\n",
      "assert set(top_five_states_by_pop.columns) == set(['POP010210', 'geog_entity'])\n",
      "assert list(top_five_states_by_pop[['geog_entity', 'POP010210']].values.flatten()) == [u'CALIFORNIA',\n",
      " 37253956L,\n",
      " u'TEXAS',\n",
      " 25145561L,\n",
      " u'NEW YORK',\n",
      " 19378102L,\n",
      " u'FLORIDA',\n",
      " 18801310L,\n",
      " u'ILLINOIS',\n",
      " 12830632L]"
     ],
     "language": "python",
     "metadata": {},
     "outputs": []
    },
    {
     "cell_type": "heading",
     "level": 2,
     "metadata": {},
     "source": [
      "Plotting state population as a scatter graph in descending order by population"
     ]
    },
    {
     "cell_type": "markdown",
     "metadata": {},
     "source": [
      "Purpose:  construct state_pop DataFrame to use for plotting"
     ]
    },
    {
     "cell_type": "code",
     "collapsed": false,
     "input": [
      "state_pop = df[df.geog_type=='state']['POP010210'].copy()\n",
      "\n",
      "# use sort to do in-place sort\n",
      "state_pop.sort()\n",
      "state_pop[:5]"
     ],
     "language": "python",
     "metadata": {},
     "outputs": []
    },
    {
     "cell_type": "code",
     "collapsed": false,
     "input": [
      "state_pop.order()[::-1]\n",
      "state_pop.sum()"
     ],
     "language": "python",
     "metadata": {},
     "outputs": []
    },
    {
     "cell_type": "heading",
     "level": 2,
     "metadata": {},
     "source": [
      "Exercise:  Produce a cumulative population graph of states"
     ]
    },
    {
     "cell_type": "markdown",
     "metadata": {},
     "source": [
      "\n",
      "* x value is the rank (starting with 0)\n",
      "* y value is the normalized cumulative population\n",
      "\n",
      "Some specific values to be plotted:\n",
      "\n",
      "    0     0.120662\n",
      "    1     0.202107\n",
      "    2     0.264871\n",
      "    3     0.325766\n",
      "    ....\n",
      "    ....\n",
      "    47    0.994199\n",
      "    48    0.996226\n",
      "    49    0.998174\n",
      "    50    1.000000\n",
      "\n",
      "Consider using [cumsum](http://pandas.pydata.org/pandas-docs/dev/generated/pandas.Series.cumsum.html) in relation to `state_pop`.\n",
      "\n",
      "Your graph should look something like the following:\n",
      "\n",
      "<a href=\"http://www.flickr.com/photos/raymondyee/8471907573/\" title=\"day_08_state_cumulative_normalized by Raymond Yee, on Flickr\"><img src=\"http://farm9.staticflickr.com/8524/8471907573_5b1f7b4df5.jpg\" width=\"367\" height=\"249\" alt=\"day_08_state_cumulative_normalized\"></a>"
     ]
    },
    {
     "cell_type": "code",
     "collapsed": false,
     "input": [
      "# FILL IN WITH YOUR CODE TO GENERATE PLOT\n",
      "\n",
      "\n",
      "\n"
     ],
     "language": "python",
     "metadata": {},
     "outputs": []
    },
    {
     "cell_type": "heading",
     "level": 1,
     "metadata": {},
     "source": [
      "Let's make a simple bar graph"
     ]
    },
    {
     "cell_type": "markdown",
     "metadata": {},
     "source": [
      "First, consider a simple example bar graph to learn from"
     ]
    },
    {
     "cell_type": "code",
     "collapsed": false,
     "input": [
      "import string\n",
      "num_letter_series = Series(arange(10), index=list(string.lowercase[:10]))\n",
      "num_letter_series "
     ],
     "language": "python",
     "metadata": {},
     "outputs": []
    },
    {
     "cell_type": "code",
     "collapsed": false,
     "input": [
      "num_letter_series.plot(kind=\"bar\")"
     ],
     "language": "python",
     "metadata": {},
     "outputs": []
    },
    {
     "cell_type": "heading",
     "level": 2,
     "metadata": {},
     "source": [
      "Exercise: Make a bar chart of state population"
     ]
    },
    {
     "cell_type": "markdown",
     "metadata": {},
     "source": [
      "Requirement:\n",
      "\n",
      "* states listed in descending order by population on x-axis\n",
      "* population on the y-axis\n",
      "\n",
      "Your plot should look something like the following:\n",
      "\n",
      "<a href=\"http://www.flickr.com/photos/raymondyee/8473055924/\" title=\"day_08_state_pop_bar by Raymond Yee, on Flickr\"><img src=\"http://farm9.staticflickr.com/8239/8473055924_02422854b9.jpg\" width=\"368\" height=\"369\" alt=\"day_08_state_pop_bar\"></a>"
     ]
    },
    {
     "cell_type": "code",
     "collapsed": false,
     "input": [
      "# FILL IN WITH YOUR CODE TO GENERATE BAR PLOT\n",
      "\n",
      "\n",
      "\n"
     ],
     "language": "python",
     "metadata": {},
     "outputs": []
    },
    {
     "cell_type": "heading",
     "level": 1,
     "metadata": {},
     "source": [
      "Exercise: Using groupby to compare aggregate populations with stated totals"
     ]
    },
    {
     "cell_type": "markdown",
     "metadata": {},
     "source": [
      "1. Calculate a DataFrame named `state_pop_total` that sums up the populations for all counties in the state. `state_pop_total` must be indexed on `fips_prefix`.  Hint: do a `group_by` operation on `df` and then sort by\n",
      "descending population.\n",
      "\n",
      "1. Calculate a DataFrame named `extracted_state_pops` that is indexed by `fips_prefix` and holds the total population\n",
      "as stated for given state in `df`.  Make `extracted_state_pops` sorted by descending population also"
     ]
    },
    {
     "cell_type": "code",
     "collapsed": false,
     "input": [
      "# FILL IN WITH YOUR CODE for state_pop_total and extracted_state_pops\n",
      "\n",
      "\n",
      "\n"
     ],
     "language": "python",
     "metadata": {},
     "outputs": []
    },
    {
     "cell_type": "code",
     "collapsed": false,
     "input": [
      "# TEST\n",
      "\n",
      "\n",
      "assert isinstance(state_pop_total, DataFrame)\n",
      "assert map(unicode, list(state_pop_total.index)) == [u'06', u'48', u'36', u'12', u'17', u'42', u'39', u'26',\n",
      " u'13', u'37', u'34', u'51', u'53', u'25', u'18', u'04', u'47', u'29', u'24', u'55', \n",
      " u'27', u'08', u'01', u'45', u'22', u'21', u'41', u'40', u'09', u'19', u'28', \n",
      " u'05', u'20', u'49', u'32', u'35', u'54', u'31', u'16', u'15', u'23', u'33', u'44', \n",
      " u'30', u'10', u'46', u'02', u'38', u'50', u'11', u'56']\n",
      "assert set(state_pop_total.columns) == set(['POP010210'])\n",
      "assert state_pop_total[:5].sum() == 113409561\n",
      "\n",
      "# compare all the state totals\n",
      "assert np.all(state_pop_total['POP010210'] == extracted_state_pops['POP010210'])\n"
     ],
     "language": "python",
     "metadata": {},
     "outputs": []
    },
    {
     "cell_type": "heading",
     "level": 1,
     "metadata": {},
     "source": [
      "Note:  You can use a DataFrame to align indexes"
     ]
    },
    {
     "cell_type": "heading",
     "level": 2,
     "metadata": {},
     "source": [
      "Exercise:  Run the following code to make sure you know what's going on here."
     ]
    },
    {
     "cell_type": "code",
     "collapsed": false,
     "input": [
      "# Series must be sorted in same order for comparison to work -- the following is False\n",
      "\n",
      "np.all(state_pop_total['POP010210'].order() == extracted_state_pops['POP010210'])\n"
     ],
     "language": "python",
     "metadata": {},
     "outputs": []
    },
    {
     "cell_type": "code",
     "collapsed": false,
     "input": [
      "# let's shuffle the index\n",
      "\n",
      "import random \n",
      "\n",
      "shuffle_index = list(state_pop_total.index)\n",
      "random.shuffle(shuffle_index)\n",
      "print shuffle_index"
     ],
     "language": "python",
     "metadata": {},
     "outputs": []
    },
    {
     "cell_type": "code",
     "collapsed": false,
     "input": [
      "# use reindex to create a shuffled Series\n",
      "\n",
      "shuffled_series = state_pop_total['POP010210'].reindex(index=shuffle_index)\n",
      "shuffled_series[:5]"
     ],
     "language": "python",
     "metadata": {},
     "outputs": []
    },
    {
     "cell_type": "code",
     "collapsed": false,
     "input": [
      "#  When you insert these three Series into a common DataFrame, you can do comparisons across the columns\n",
      "\n",
      "comp = DataFrame(index=extracted_state_pops.index)\n",
      "comp['extracted'] = extracted_state_pops['POP010210']\n",
      "comp['total'] = state_pop_total['POP010210']\n",
      "comp['shuffle'] = shuffled_series"
     ],
     "language": "python",
     "metadata": {},
     "outputs": []
    },
    {
     "cell_type": "code",
     "collapsed": false,
     "input": [
      "np.all(comp['extracted'] == comp['total'])"
     ],
     "language": "python",
     "metadata": {},
     "outputs": []
    },
    {
     "cell_type": "code",
     "collapsed": false,
     "input": [
      "np.all(comp['shuffle'] == comp['total'])"
     ],
     "language": "python",
     "metadata": {},
     "outputs": []
    }
   ],
   "metadata": {}
  }
 ]
}