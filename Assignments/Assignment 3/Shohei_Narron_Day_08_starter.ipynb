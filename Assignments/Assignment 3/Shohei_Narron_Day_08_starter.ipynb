{
 "metadata": {
  "name": "Day_08_starter"
 },
 "nbformat": 3,
 "nbformat_minor": 0,
 "worksheets": [
  {
   "cells": [
    {
     "cell_type": "heading",
     "level": 1,
     "metadata": {},
     "source": "Goals"
    },
    {
     "cell_type": "markdown",
     "metadata": {},
     "source": "To accomplish in this problem set\n\n* more elegant operations with Pandas\n* get a start at plotting with matplotlib\n* learning how to use groupby to compare aggregates with stated totals\n"
    },
    {
     "cell_type": "heading",
     "level": 1,
     "metadata": {},
     "source": "Preliminaries"
    },
    {
     "cell_type": "markdown",
     "metadata": {},
     "source": "Do pandas imports and set up variables for accessing census data sets"
    },
    {
     "cell_type": "code",
     "collapsed": false,
     "input": "import pandas as pd\nfrom pandas import Series, DataFrame",
     "language": "python",
     "metadata": {},
     "outputs": [],
     "prompt_number": 147
    },
    {
     "cell_type": "code",
     "collapsed": false,
     "input": "import os\n\nDATA_DIR = os.path.join(os.pardir, \"/Users/shoheinarron/Desktop/INFO290T/\")",
     "language": "python",
     "metadata": {},
     "outputs": [],
     "prompt_number": 148
    },
    {
     "cell_type": "code",
     "collapsed": false,
     "input": "# see what's in the directory using os.walk\n\nlist(os.walk(os.path.join(DATA_DIR, \"census\")))",
     "language": "python",
     "metadata": {},
     "outputs": [
      {
       "output_type": "pyout",
       "prompt_number": 149,
       "text": "[('/Users/shoheinarron/Desktop/INFO290T/census',\n  [],\n  ['.DS_Store', 'DataDict.txt', 'DataSet.txt', 'FIPS_CountyName.txt'])]"
      }
     ],
     "prompt_number": 149
    },
    {
     "cell_type": "code",
     "collapsed": false,
     "input": "# do shell command for linux/mac -- sorry windows users\n\n!ls $DATA_DIR/census/*",
     "language": "python",
     "metadata": {},
     "outputs": [
      {
       "output_type": "stream",
       "stream": "stdout",
       "text": "/Users/shoheinarron/Desktop/INFO290T//census/DataDict.txt\r\n/Users/shoheinarron/Desktop/INFO290T//census/DataSet.txt\r\n/Users/shoheinarron/Desktop/INFO290T//census/FIPS_CountyName.txt\r\n"
      }
     ],
     "prompt_number": 150
    },
    {
     "cell_type": "heading",
     "level": 1,
     "metadata": {},
     "source": "More elegant manipulation of census DataFrame"
    },
    {
     "cell_type": "heading",
     "level": 2,
     "metadata": {},
     "source": "Confirm again the assumed relative placement of files"
    },
    {
     "cell_type": "code",
     "collapsed": false,
     "input": "import os\n\n# relative to parent dir\nDATA_FILES = {\"datadict\":\"/Users/shoheinarron/Desktop/INFO290T/census/DataDict.txt\",\n               \"dataset\":\"/Users/shoheinarron/Desktop/INFO290T/census/DataSet.txt\",\n               \"fips\": \"/Users/shoheinarron/Desktop/INFO290T/census/FIPS_CountyName.txt\"}\n\ndef file_path(key):\n    return os.path.join(os.pardir, DATA_FILES[key])\n\nfor file_key in DATA_FILES.keys():\n    abs_fname = file_path(file_key)\n    assert os.path.exists(abs_fname) is True",
     "language": "python",
     "metadata": {},
     "outputs": [],
     "prompt_number": 151
    },
    {
     "cell_type": "heading",
     "level": 2,
     "metadata": {},
     "source": "Construct fips_df"
    },
    {
     "cell_type": "code",
     "collapsed": false,
     "input": "import codecs\nfrom itertools import islice\n\nfrom pandas import Series, DataFrame\n\nf = codecs.open(file_path(\"fips\"), encoding='iso-8859-1')\n\nfips_list = list()\n\nfor row in islice(f, None):\n    fips_list.append({'fips': row[:5], 'geog_entity': row[6:-1]})\n    \nfips_df = DataFrame(fips_list)\n\n# print out first 5 rows\nfips_df[:5]",
     "language": "python",
     "metadata": {},
     "outputs": [
      {
       "html": "<div style=\"max-height:1000px;max-width:1500px;overflow:auto;\">\n<table border=\"1\" class=\"dataframe\">\n  <thead>\n    <tr style=\"text-align: right;\">\n      <th></th>\n      <th>fips</th>\n      <th>geog_entity</th>\n    </tr>\n  </thead>\n  <tbody>\n    <tr>\n      <th>0</th>\n      <td> 00000</td>\n      <td>      UNITED STATES</td>\n    </tr>\n    <tr>\n      <th>1</th>\n      <td> 01000</td>\n      <td>            ALABAMA</td>\n    </tr>\n    <tr>\n      <th>2</th>\n      <td> 01001</td>\n      <td> Autauga County, AL</td>\n    </tr>\n    <tr>\n      <th>3</th>\n      <td> 01003</td>\n      <td> Baldwin County, AL</td>\n    </tr>\n    <tr>\n      <th>4</th>\n      <td> 01005</td>\n      <td> Barbour County, AL</td>\n    </tr>\n  </tbody>\n</table>\n</div>",
       "output_type": "pyout",
       "prompt_number": 152,
       "text": "    fips         geog_entity\n0  00000       UNITED STATES\n1  01000             ALABAMA\n2  01001  Autauga County, AL\n3  01003  Baldwin County, AL\n4  01005  Barbour County, AL"
      }
     ],
     "prompt_number": 152
    },
    {
     "cell_type": "heading",
     "level": 2,
     "metadata": {},
     "source": "EXERCISE: add to fips_df a fips_prefix column, which is the first 2 digits in fips"
    },
    {
     "cell_type": "markdown",
     "metadata": {},
     "source": "e.g., 06 fo California"
    },
    {
     "cell_type": "code",
     "collapsed": false,
     "input": "# FILL IN YOUR CODE\nfips_df['fips_prefix'] = [i[:2] for i in fips_df['fips'][:]]\nfips_df[:5]",
     "language": "python",
     "metadata": {},
     "outputs": [
      {
       "html": "<div style=\"max-height:1000px;max-width:1500px;overflow:auto;\">\n<table border=\"1\" class=\"dataframe\">\n  <thead>\n    <tr style=\"text-align: right;\">\n      <th></th>\n      <th>fips</th>\n      <th>geog_entity</th>\n      <th>fips_prefix</th>\n    </tr>\n  </thead>\n  <tbody>\n    <tr>\n      <th>0</th>\n      <td> 00000</td>\n      <td>      UNITED STATES</td>\n      <td> 00</td>\n    </tr>\n    <tr>\n      <th>1</th>\n      <td> 01000</td>\n      <td>            ALABAMA</td>\n      <td> 01</td>\n    </tr>\n    <tr>\n      <th>2</th>\n      <td> 01001</td>\n      <td> Autauga County, AL</td>\n      <td> 01</td>\n    </tr>\n    <tr>\n      <th>3</th>\n      <td> 01003</td>\n      <td> Baldwin County, AL</td>\n      <td> 01</td>\n    </tr>\n    <tr>\n      <th>4</th>\n      <td> 01005</td>\n      <td> Barbour County, AL</td>\n      <td> 01</td>\n    </tr>\n  </tbody>\n</table>\n</div>",
       "output_type": "pyout",
       "prompt_number": 153,
       "text": "    fips         geog_entity fips_prefix\n0  00000       UNITED STATES          00\n1  01000             ALABAMA          01\n2  01001  Autauga County, AL          01\n3  01003  Baldwin County, AL          01\n4  01005  Barbour County, AL          01"
      }
     ],
     "prompt_number": 153
    },
    {
     "cell_type": "code",
     "collapsed": false,
     "input": "# TEST\n\nassert np.all(fips_df[fips_df.fips == '00000']['fips_prefix'] == '00')\nassert np.all(fips_df[fips_df.fips == '06000']['fips_prefix'] == '06')\nassert np.all(fips_df[fips_df.fips == '06001']['fips_prefix'] == '06')",
     "language": "python",
     "metadata": {},
     "outputs": [],
     "prompt_number": 154
    },
    {
     "cell_type": "heading",
     "level": 2,
     "metadata": {},
     "source": "EXERCISE: add to fips_df a geog_type column ('country', 'state', or 'county')"
    },
    {
     "cell_type": "markdown",
     "metadata": {},
     "source": "### Hints\n\nConsider using [np.where](http://docs.scipy.org/doc/numpy/reference/generated/numpy.where.html)\n\nand look at *PfDA*, pp. 98-100\n\nHow to take\n\n> `np.where(fips_df.fips.str[-3:] != '000', 'county', 'is_not_county')`\n\nand add one more np.where to differentiate between US and states?"
    },
    {
     "cell_type": "code",
     "collapsed": false,
     "input": "# FILL IN YOUR CODE\n#for i in fips_df['fips'][:]:\n\nis_not_county = np.where(fips_df.fips.str[-3:] != '000', True, False)\nis_not_country = np.where(fips_df.fips.str[:2] == '00', True, False)\nq = 0\n\nfor i in fips_df.fips:\n    fips_df['geog_type'] = np.where(is_not_county & is_not_country, None,\n        np.where(is_not_county, 'county',\n            np.where(is_not_country, 'country', 'state')))\n#fips_df[:100]",
     "language": "python",
     "metadata": {},
     "outputs": [],
     "prompt_number": 155
    },
    {
     "cell_type": "code",
     "collapsed": false,
     "input": "# Check pandas version because the above lines of code did not work after successful completion.\n# Turns out you need the updated version of pandas and not the version that comes with Enthought.\n\n# Check pandas evrsion here:\n# pd.__version__",
     "language": "python",
     "metadata": {},
     "outputs": [],
     "prompt_number": 156
    },
    {
     "cell_type": "code",
     "collapsed": false,
     "input": "# TEST\n\n# check specific values\n\nassert fips_df[fips_df.fips == '00000']['geog_type'] == 'country'\nassert fips_df[fips_df.fips == '06000']['geog_type'] == 'state'\nassert fips_df[fips_df.fips == '06001']['geog_type'] == 'county'\n\n\n# check the numbers of various geog_type\n\nassert set(fips_df.geog_type.value_counts().iteritems()) == set([('state', 51), ('country', 1), ('county', 3143)])",
     "language": "python",
     "metadata": {},
     "outputs": [],
     "prompt_number": 178
    },
    {
     "cell_type": "heading",
     "level": 2,
     "metadata": {},
     "source": "Let's load the dataset and construct df -- should be familiar stuff by now"
    },
    {
     "cell_type": "code",
     "collapsed": false,
     "input": "# let's try pd.read_csv \n# how to give hints about data type to pd.read_csv?\n\nimport codecs\n\n# let's try object for fips and int for POP010210\ndtype = {'fips':'S5', 'POP010210':np.int}\n\nf = codecs.open(file_path(\"dataset\"), encoding='iso-8859-1')\ndataset_df = pd.read_csv(f, dtype=dtype)\ndf = pd.merge(fips_df, dataset_df)",
     "language": "python",
     "metadata": {},
     "outputs": [],
     "prompt_number": 179
    },
    {
     "cell_type": "code",
     "collapsed": false,
     "input": "df[['fips', 'geog_entity', 'geog_type', 'POP010210']][:5]",
     "language": "python",
     "metadata": {},
     "outputs": [
      {
       "html": "<div style=\"max-height:1000px;max-width:1500px;overflow:auto;\">\n<table border=\"1\" class=\"dataframe\">\n  <thead>\n    <tr style=\"text-align: right;\">\n      <th></th>\n      <th>fips</th>\n      <th>geog_entity</th>\n      <th>geog_type</th>\n      <th>POP010210</th>\n    </tr>\n  </thead>\n  <tbody>\n    <tr>\n      <th>0</th>\n      <td> 00000</td>\n      <td>      UNITED STATES</td>\n      <td> country</td>\n      <td> 308745538</td>\n    </tr>\n    <tr>\n      <th>1</th>\n      <td> 01000</td>\n      <td>            ALABAMA</td>\n      <td>   state</td>\n      <td>   4779736</td>\n    </tr>\n    <tr>\n      <th>2</th>\n      <td> 01001</td>\n      <td> Autauga County, AL</td>\n      <td>  county</td>\n      <td>     54571</td>\n    </tr>\n    <tr>\n      <th>3</th>\n      <td> 01003</td>\n      <td> Baldwin County, AL</td>\n      <td>  county</td>\n      <td>    182265</td>\n    </tr>\n    <tr>\n      <th>4</th>\n      <td> 01005</td>\n      <td> Barbour County, AL</td>\n      <td>  county</td>\n      <td>     27457</td>\n    </tr>\n  </tbody>\n</table>\n</div>",
       "output_type": "pyout",
       "prompt_number": 180,
       "text": "    fips         geog_entity geog_type  POP010210\n0  00000       UNITED STATES   country  308745538\n1  01000             ALABAMA     state    4779736\n2  01001  Autauga County, AL    county      54571\n3  01003  Baldwin County, AL    county     182265\n4  01005  Barbour County, AL    county      27457"
      }
     ],
     "prompt_number": 180
    },
    {
     "cell_type": "heading",
     "level": 1,
     "metadata": {},
     "source": "Working with state populations"
    },
    {
     "cell_type": "heading",
     "level": 2,
     "metadata": {},
     "source": "EXERCISE:  calculate a DataFrame called top_five_states_by_pop w/ 5 most populous states"
    },
    {
     "cell_type": "markdown",
     "metadata": {},
     "source": "Requirement for `top_five_states_by_pop` DataFrame:\n\n* has only 5 rows\n* has two columns:  `geog_entity`, `POP010210`\n\nHints:\n\n* you might want to make use of [`sort_index`](http://pandas.pydata.org/pandas-docs/dev/generated/pandas.DataFrame.sort_index.html)"
    },
    {
     "cell_type": "code",
     "collapsed": false,
     "input": "# FILL IN YOUR CODE for top_five_states_by_pop\nsorted_df = df.sort_index(by='POP010210', ascending=False)[['geog_type', 'geog_entity', 'POP010210']]\n# Long way:\n#top_five_states_by_pop = []\n#geog = [i for i in sorted_df.values]\n#for i in geog[:6]:\n#    if i[0] == 'state':\n#        top_five_states_by_pop.append(i[1:])\n#top_five_states_by_pop = pd.DataFrame(top_five_states_by_pop, columns=['geog_entity', 'POP010210'])\n\n# Shortcut:\ntop_five_states_by_pop = pd.DataFrame(sorted_df[sorted_df.geog_type == 'state'][['geog_entity', 'POP010210']][:5])\ntop_five_states_by_pop",
     "language": "python",
     "metadata": {},
     "outputs": [
      {
       "html": "<div style=\"max-height:1000px;max-width:1500px;overflow:auto;\">\n<table border=\"1\" class=\"dataframe\">\n  <thead>\n    <tr style=\"text-align: right;\">\n      <th></th>\n      <th>geog_entity</th>\n      <th>POP010210</th>\n    </tr>\n  </thead>\n  <tbody>\n    <tr>\n      <th>191 </th>\n      <td> CALIFORNIA</td>\n      <td> 37253956</td>\n    </tr>\n    <tr>\n      <th>2567</th>\n      <td>      TEXAS</td>\n      <td> 25145561</td>\n    </tr>\n    <tr>\n      <th>1861</th>\n      <td>   NEW YORK</td>\n      <td> 19378102</td>\n    </tr>\n    <tr>\n      <th>330 </th>\n      <td>    FLORIDA</td>\n      <td> 18801310</td>\n    </tr>\n    <tr>\n      <th>609 </th>\n      <td>   ILLINOIS</td>\n      <td> 12830632</td>\n    </tr>\n  </tbody>\n</table>\n</div>",
       "output_type": "pyout",
       "prompt_number": 181,
       "text": "     geog_entity  POP010210\n191   CALIFORNIA   37253956\n2567       TEXAS   25145561\n1861    NEW YORK   19378102\n330      FLORIDA   18801310\n609     ILLINOIS   12830632"
      }
     ],
     "prompt_number": 181
    },
    {
     "cell_type": "code",
     "collapsed": false,
     "input": "# TEST\n# 5 rows, column values, and specific values\n\nassert len(top_five_states_by_pop) == 5\nassert set(top_five_states_by_pop.columns) == set(['POP010210', 'geog_entity'])\nassert list(top_five_states_by_pop[['geog_entity', 'POP010210']].values.flatten()) == [u'CALIFORNIA',\n 37253956L,\n u'TEXAS',\n 25145561L,\n u'NEW YORK',\n 19378102L,\n u'FLORIDA',\n 18801310L,\n u'ILLINOIS',\n 12830632L]",
     "language": "python",
     "metadata": {},
     "outputs": [],
     "prompt_number": 182
    },
    {
     "cell_type": "heading",
     "level": 2,
     "metadata": {},
     "source": "Plotting state population as a scatter graph in descending order by population"
    },
    {
     "cell_type": "markdown",
     "metadata": {},
     "source": "Purpose:  construct state_pop DataFrame to use for plotting"
    },
    {
     "cell_type": "code",
     "collapsed": false,
     "input": "state_pop = df[df.geog_type=='state']['POP010210'].copy()\n# use sort to do in-place sort\nstate_pop.sort()\nstate_pop[:5]",
     "language": "python",
     "metadata": {},
     "outputs": [
      {
       "output_type": "pyout",
       "prompt_number": 183,
       "text": "3171    563626\n328     601723\n2852    625741\n2025    672591\n69      710231\nName: POP010210"
      }
     ],
     "prompt_number": 183
    },
    {
     "cell_type": "code",
     "collapsed": false,
     "input": "state_pop.order()[::-1]\nstate_pop.sum()",
     "language": "python",
     "metadata": {},
     "outputs": [
      {
       "output_type": "pyout",
       "prompt_number": 184,
       "text": "308745538"
      }
     ],
     "prompt_number": 184
    },
    {
     "cell_type": "heading",
     "level": 2,
     "metadata": {},
     "source": "Exercise:  Produce a cumulative population graph of states"
    },
    {
     "cell_type": "markdown",
     "metadata": {},
     "source": "\n* x value is the rank (starting with 0)\n* y value is the normalized cumulative population\n\nSome specific values to be plotted:\n\n    0     0.120662\n    1     0.202107\n    2     0.264871\n    3     0.325766\n    ....\n    ....\n    47    0.994199\n    48    0.996226\n    49    0.998174\n    50    1.000000\n\nConsider using [cumsum](http://pandas.pydata.org/pandas-docs/dev/generated/pandas.Series.cumsum.html) in relation to `state_pop`.\n\nYour graph should look something like the following:\n\n<a href=\"http://www.flickr.com/photos/raymondyee/8471907573/\" title=\"day_08_state_cumulative_normalized by Raymond Yee, on Flickr\"><img src=\"http://farm9.staticflickr.com/8524/8471907573_5b1f7b4df5.jpg\" width=\"367\" height=\"249\" alt=\"day_08_state_cumulative_normalized\"></a>"
    },
    {
     "cell_type": "code",
     "collapsed": false,
     "input": "# FILL IN WITH YOUR CODE TO GENERATE PLOT\nstate_name = Series(df[df.geog_type=='state']['geog_entity'].copy())\nstate_info = df[df.geog_type=='state'][['geog_entity', 'POP010210']].copy().sort('POP010210', ascending=False)\nstate_info['pop_percentage'] = DataFrame(state_pop[::-1] / (state_pop.sum() * 1.0))\n\n# Short version\nresult = scatter(arange(1,52), state_info.POP010210.cumsum().astype(float) / state_info.POP010210.sum())\n\n# Longer version\n#state_info_list = state_info.pop_percentage.cumsum()\n# print state_info_list\n#result = scatter(range(0, len(state_name)), state_info_list)\n\n# Other stff:\n#state_pop_percentage = Series(state_pop[::-1] / (state_pop.sum() * 1.0))\n#state_pop_percentage.cumsum().plot(kind='bar')\n#state_name = Series(df[df.geog_type=='state']['geog_entity'].copy())\n#state_pop_percentage = Series(state_pop[::-1] / (state_pop.sum() * 1.0))\n#Series(state_pop_percentage, index=state_name)\n",
     "language": "python",
     "metadata": {},
     "outputs": [
      {
       "output_type": "display_data",
       "png": "[encoded data removed]"
      }
     ],
     "prompt_number": 185
    },
    {
     "cell_type": "heading",
     "level": 1,
     "metadata": {},
     "source": "Let's make a simple bar graph"
    },
    {
     "cell_type": "markdown",
     "metadata": {},
     "source": "First, consider a simple example bar graph to learn from"
    },
    {
     "cell_type": "code",
     "collapsed": false,
     "input": "import string\nnum_letter_series = Series(arange(10), index=list(string.lowercase[:10]))\nnum_letter_series ",
     "language": "python",
     "metadata": {},
     "outputs": [
      {
       "output_type": "pyout",
       "prompt_number": 186,
       "text": "a    0\nb    1\nc    2\nd    3\ne    4\nf    5\ng    6\nh    7\ni    8\nj    9"
      }
     ],
     "prompt_number": 186
    },
    {
     "cell_type": "code",
     "collapsed": false,
     "input": "num_letter_series.plot(kind=\"bar\")",
     "language": "python",
     "metadata": {},
     "outputs": [
      {
       "output_type": "pyout",
       "prompt_number": 187,
       "text": "<matplotlib.axes.AxesSubplot at 0x108b0c050>"
      },
      {
       "output_type": "display_data",
       "png": "[encoded data removed]"
      }
     ],
     "prompt_number": 187
    },
    {
     "cell_type": "heading",
     "level": 2,
     "metadata": {},
     "source": "Exercise: Make a bar chart of state population"
    },
    {
     "cell_type": "markdown",
     "metadata": {},
     "source": "Requirement:\n\n* states listed in descending order by population on x-axis\n* population on the y-axis\n\nYour plot should look something like the following:\n\n<a href=\"http://www.flickr.com/photos/raymondyee/8473055924/\" title=\"day_08_state_pop_bar by Raymond Yee, on Flickr\"><img src=\"http://farm9.staticflickr.com/8239/8473055924_02422854b9.jpg\" width=\"368\" height=\"369\" alt=\"day_08_state_pop_bar\"></a>"
    },
    {
     "cell_type": "code",
     "collapsed": false,
     "input": "# FILL IN WITH YOUR CODE TO GENERATE BAR PLOT\n\nstates_by_pop = df[df.geog_type=='state'][['geog_entity', 'POP010210']].copy().sort('POP010210', ascending=False)\nstate_name = Series(states_by_pop.geog_entity)\nstate_pop = Series(states_by_pop.POP010210)\n\ns_result = Series(list(state_pop), index=list(state_name))\ns_result.plot(kind='bar')",
     "language": "python",
     "metadata": {},
     "outputs": [
      {
       "output_type": "pyout",
       "prompt_number": 188,
       "text": "<matplotlib.axes.AxesSubplot at 0x1070943d0>"
      },
      {
       "output_type": "display_data",
       "png": "[encoded data removed]"
      }
     ],
     "prompt_number": 188
    },
    {
     "cell_type": "heading",
     "level": 1,
     "metadata": {},
     "source": "Exercise: Using groupby to compare aggregate populations with stated totals"
    },
    {
     "cell_type": "markdown",
     "metadata": {},
     "source": "1. Calculate a DataFrame named `state_pop_total` that sums up the populations for all counties in the state. `state_pop_total` must be indexed on `fips_prefix`.  Hint: do a `group_by` operation on `df` and then sort by\ndescending population.\n\n1. Calculate a DataFrame named `extracted_state_pops` that is indexed by `fips_prefix` and holds the total population\nas stated for given state in `df`.  Make `extracted_state_pops` sorted by descending population also"
    },
    {
     "cell_type": "code",
     "collapsed": false,
     "input": "# FILL IN WITH YOUR CODE for state_pop_total and extracted_state_pops\n\n# Part 1\n# Create lists for fips prefixes, county fips, and population by fips.\ncounty_fips_prefix = [i[:2] for i in df[df.geog_type == 'county'].fips]\ncounty_fips = df[df.geog_type == 'county'].fips\ncounty_population = df[df.geog_type=='county'].POP010210\n\n# Create pandas.DataFrame object with fips_prefix, county_fips, and POP010210 as columns.\npopulation_list = pd.DataFrame({'fips_prefix':county_fips_prefix, 'county_fips':county_fips, 'POP010210':county_population})\n\n# Set state_pop_total to a list (population_list) of population total\n# calculated as the sum of all counties within the state, grouped by fips_prefix column\n# in descending order.\nstate_pop_total = population_list.groupby('fips_prefix').sum().sort('POP010210', ascending=False)\n\n# Check index.\n#state_pop_total.index\n\n# Part 2\nstate_fips_prefix = [i[:2] for i in df[df.geog_type == 'state'].fips]\nstate_fips = df[df.geog_type == 'state'].fips\nstate_population = df[df.geog_type=='state'].POP010210\n\nstate_pop_list = pd.DataFrame({'fips_prefix':state_fips_prefix, 'state_fips':state_fips, 'POP010210':state_population})\nextracted_state_pops = state_pop_list.groupby('fips_prefix').sum().sort('POP010210', ascending=False)\n\n#extracted_state_pops",
     "language": "python",
     "metadata": {},
     "outputs": [],
     "prompt_number": 267
    },
    {
     "cell_type": "code",
     "collapsed": false,
     "input": "# TEST\n\n\nassert isinstance(state_pop_total, DataFrame)\nassert map(unicode, list(state_pop_total.index)) == [u'06', u'48', u'36', u'12', u'17', u'42', u'39', u'26',\n u'13', u'37', u'34', u'51', u'53', u'25', u'18', u'04', u'47', u'29', u'24', u'55', \n u'27', u'08', u'01', u'45', u'22', u'21', u'41', u'40', u'09', u'19', u'28', \n u'05', u'20', u'49', u'32', u'35', u'54', u'31', u'16', u'15', u'23', u'33', u'44', \n u'30', u'10', u'46', u'02', u'38', u'50', u'11', u'56']\nassert set(state_pop_total.columns) == set(['POP010210'])\nassert state_pop_total[:5].sum() == 113409561\n\n# compare all the state totals\nassert np.all(state_pop_total['POP010210'] == extracted_state_pops['POP010210'])\n",
     "language": "python",
     "metadata": {},
     "outputs": [],
     "prompt_number": 268
    },
    {
     "cell_type": "heading",
     "level": 1,
     "metadata": {},
     "source": "Note:  You can use a DataFrame to align indexes"
    },
    {
     "cell_type": "heading",
     "level": 2,
     "metadata": {},
     "source": "Exercise:  Run the following code to make sure you know what's going on here."
    },
    {
     "cell_type": "code",
     "collapsed": false,
     "input": "# Series must be sorted in same order for comparison to work -- the following is False\n\nnp.all(state_pop_total['POP010210'].order() == extracted_state_pops['POP010210'])\n",
     "language": "python",
     "metadata": {},
     "outputs": [
      {
       "output_type": "pyout",
       "prompt_number": 269,
       "text": "False"
      }
     ],
     "prompt_number": 269
    },
    {
     "cell_type": "code",
     "collapsed": false,
     "input": "# let's shuffle the index\n\nimport random \n\nshuffle_index = list(state_pop_total.index)\nrandom.shuffle(shuffle_index)\nprint shuffle_index",
     "language": "python",
     "metadata": {},
     "outputs": [
      {
       "output_type": "stream",
       "stream": "stdout",
       "text": "[u'30', u'41', u'47', u'33', u'36', u'21', u'38', u'11', u'22', u'23', u'28', u'01', u'26', u'56', u'12', u'19', u'32', u'50', u'10', u'18', u'53', u'42', u'46', u'04', u'54', u'13', u'06', u'37', u'40', u'39', u'48', u'27', u'35', u'08', u'44', u'55', u'25', u'16', u'15', u'49', u'45', u'20', u'34', u'51', u'17', u'02', u'29', u'24', u'31', u'05', u'09']\n"
      }
     ],
     "prompt_number": 270
    },
    {
     "cell_type": "code",
     "collapsed": false,
     "input": "# use reindex to create a shuffled Series\n\nshuffled_series = state_pop_total['POP010210'].reindex(index=shuffle_index)\nshuffled_series[:5]",
     "language": "python",
     "metadata": {},
     "outputs": [
      {
       "output_type": "pyout",
       "prompt_number": 271,
       "text": "30      989415\n41     3831074\n47     6346105\n33     1316470\n36    19378102\nName: POP010210"
      }
     ],
     "prompt_number": 271
    },
    {
     "cell_type": "code",
     "collapsed": false,
     "input": "#  When you insert these three Series into a common DataFrame, you can do comparisons across the columns\n\ncomp = DataFrame(index=extracted_state_pops.index)\ncomp['extracted'] = extracted_state_pops['POP010210']\ncomp['total'] = state_pop_total['POP010210']\ncomp['shuffle'] = shuffled_series\n# Check comp\n#comp",
     "language": "python",
     "metadata": {},
     "outputs": [],
     "prompt_number": 276
    },
    {
     "cell_type": "code",
     "collapsed": false,
     "input": "np.all(comp['extracted'] == comp['total'])",
     "language": "python",
     "metadata": {},
     "outputs": [
      {
       "output_type": "pyout",
       "prompt_number": 277,
       "text": "True"
      }
     ],
     "prompt_number": 277
    },
    {
     "cell_type": "code",
     "collapsed": false,
     "input": "np.all(comp['shuffle'] == comp['total'])",
     "language": "python",
     "metadata": {},
     "outputs": [
      {
       "output_type": "pyout",
       "prompt_number": 278,
       "text": "True"
      }
     ],
     "prompt_number": 278
    },
    {
     "cell_type": "code",
     "collapsed": false,
     "input": "",
     "language": "python",
     "metadata": {},
     "outputs": []
    }
   ],
   "metadata": {}
  }
 ]
}