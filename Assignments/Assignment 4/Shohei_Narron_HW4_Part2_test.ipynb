{
 "metadata": {
  "name": "Shohei_Narron_HW4_Part2"
 },
 "nbformat": 3,
 "nbformat_minor": 0,
 "worksheets": [
  {
   "cells": [
    {
     "cell_type": "code",
     "collapsed": false,
     "input": "# state centroids\n# http://tinyurl.com/cjuy6k3\n\nfrom itertools import islice\n\nfrom apiclient import discovery\nfrom apiclient import model\nimport json\nfrom CREDENTIALS import FREEBASE_KEY\n\nfrom pandas import DataFrame, Series\n\nDEVELOPER_KEY = FREEBASE_KEY",
     "language": "python",
     "metadata": {},
     "outputs": [],
     "prompt_number": 32
    },
    {
     "cell_type": "code",
     "collapsed": false,
     "input": "model.JsonModel.alt_param = \"\"\nfreebase = discovery.build('freebase', 'v1', developerKey=DEVELOPER_KEY)\nquery = [{\n  \"id\": None,\n  \"name\": None,\n  \"type\": \"/location/us_county\",\n  \"/location/location/geolocation\": {\n    \"latitude\": None,\n    \"longitude\": None\n  }\n}]\n\nresults = []\ncount = 0\ndef do_query(cursor=\"\"):\n    response = json.loads(freebase.mqlread(query=json.dumps(query), cursor=cursor).execute())\n    for result in islice(response['result'], None):\n\n        results.append( {'id': result['id'],\n                         'name': result['name'],\n                         'latitude': result['/location/location/geolocation']['latitude'],\n                         'longitude': result['/location/location/geolocation']['longitude'],\n                         } )\n    return response.get(\"cursor\")\n\ncursor = do_query()\nwhile(cursor):\n    cursor = do_query(cursor)\n    # Check how many iterations this loop has gone through.\n    #print count\n    count+=1\n    \n",
     "language": "python",
     "metadata": {},
     "outputs": [
      {
       "output_type": "stream",
       "stream": "stdout",
       "text": "0\n1"
      },
      {
       "output_type": "stream",
       "stream": "stdout",
       "text": "\n2"
      },
      {
       "output_type": "stream",
       "stream": "stdout",
       "text": "\n3"
      },
      {
       "output_type": "stream",
       "stream": "stdout",
       "text": "\n4"
      },
      {
       "output_type": "stream",
       "stream": "stdout",
       "text": "\n5"
      },
      {
       "output_type": "stream",
       "stream": "stdout",
       "text": "\n6"
      },
      {
       "output_type": "stream",
       "stream": "stdout",
       "text": "\n7"
      },
      {
       "output_type": "stream",
       "stream": "stdout",
       "text": "\n8"
      },
      {
       "output_type": "stream",
       "stream": "stdout",
       "text": "\n9"
      },
      {
       "output_type": "stream",
       "stream": "stdout",
       "text": "\n10"
      },
      {
       "output_type": "stream",
       "stream": "stdout",
       "text": "\n11"
      },
      {
       "output_type": "stream",
       "stream": "stdout",
       "text": "\n12"
      },
      {
       "output_type": "stream",
       "stream": "stdout",
       "text": "\n13"
      },
      {
       "output_type": "stream",
       "stream": "stdout",
       "text": "\n14"
      },
      {
       "output_type": "stream",
       "stream": "stdout",
       "text": "\n15"
      },
      {
       "output_type": "stream",
       "stream": "stdout",
       "text": "\n16"
      },
      {
       "output_type": "stream",
       "stream": "stdout",
       "text": "\n17"
      },
      {
       "output_type": "stream",
       "stream": "stdout",
       "text": "\n18"
      },
      {
       "output_type": "stream",
       "stream": "stdout",
       "text": "\n19"
      },
      {
       "output_type": "stream",
       "stream": "stdout",
       "text": "\n20"
      },
      {
       "output_type": "stream",
       "stream": "stdout",
       "text": "\n21"
      },
      {
       "output_type": "stream",
       "stream": "stdout",
       "text": "\n22"
      },
      {
       "output_type": "stream",
       "stream": "stdout",
       "text": "\n23"
      },
      {
       "output_type": "stream",
       "stream": "stdout",
       "text": "\n24"
      },
      {
       "output_type": "stream",
       "stream": "stdout",
       "text": "\n25"
      },
      {
       "output_type": "stream",
       "stream": "stdout",
       "text": "\n26"
      },
      {
       "output_type": "stream",
       "stream": "stdout",
       "text": "\n27"
      },
      {
       "output_type": "stream",
       "stream": "stdout",
       "text": "\n28"
      },
      {
       "output_type": "stream",
       "stream": "stdout",
       "text": "\n29"
      },
      {
       "output_type": "stream",
       "stream": "stdout",
       "text": "\n30"
      },
      {
       "output_type": "stream",
       "stream": "stdout",
       "text": "\n31"
      },
      {
       "output_type": "stream",
       "stream": "stdout",
       "text": "\n"
      }
     ],
     "prompt_number": 39
    },
    {
     "cell_type": "code",
     "collapsed": false,
     "input": "states = DataFrame(results)\nplt.scatter(states[\"longitude\"], states[\"latitude\"])",
     "language": "python",
     "metadata": {},
     "outputs": [
      {
       "output_type": "pyout",
       "prompt_number": 40,
       "text": "<matplotlib.collections.PathCollection at 0x109867210>"
      },
      {
       "output_type": "display_data",
       "png": "[encoded data removed]"
      }
     ],
     "prompt_number": 40
    },
    {
     "cell_type": "code",
     "collapsed": false,
     "input": "",
     "language": "python",
     "metadata": {},
     "outputs": [],
     "prompt_number": 27
    },
    {
     "cell_type": "code",
     "collapsed": false,
     "input": "",
     "language": "python",
     "metadata": {},
     "outputs": []
    }
   ],
   "metadata": {}
  }
 ]
}