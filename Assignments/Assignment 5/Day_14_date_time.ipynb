{
 "metadata": {
  "name": "Day_14_date_time"
 },
 "nbformat": 2,
 "nbformat_minor": 0,
 "worksheets": [
  {
   "cells": [
    {
     "cell_type": "heading",
     "level": 1,
     "metadata": {},
     "source": [
      "Overview"
     ]
    },
    {
     "cell_type": "markdown",
     "metadata": {},
     "source": [
      "intro to understanding timestamps and datetime in context of `PfDA`\n",
      "\n",
      "* [datetime](http://docs.python.org/2/library/datetime.html) standard library -- nicely explained in [PyMOTW](http://pymotw.com/2/datetime/index.html)\n",
      "* [time](http://docs.python.org/2/library/time.html) standard library\n",
      "\n",
      "Also two modules available in EPD among other places:\n",
      "\n",
      "* [pytz](http://pytz.sourceforge.net/)\n",
      "* [python_dateutil](ttp://labix.org/python-dateutil)\n",
      "\n",
      "Wonderful tutorial on converting among various time formats: [Date and Time Representation in Python](http://www.seehuhn.de/pages/pdate)"
     ]
    },
    {
     "cell_type": "code",
     "collapsed": false,
     "input": [
      "# http://docs.python.org/2/library/datetime.html\n",
      "# http://docs.python.org/2/library/time.html\n",
      "\n",
      "import datetime\n",
      "import time\n",
      "\n",
      "import pytz\n",
      "import dateutil"
     ],
     "language": "python",
     "metadata": {},
     "outputs": [],
     "prompt_number": 1
    },
    {
     "cell_type": "heading",
     "level": 1,
     "metadata": {},
     "source": [
      "datetime.datetime.now and utcnow"
     ]
    },
    {
     "cell_type": "markdown",
     "metadata": {},
     "source": [
      "Basic task:  get current local datetime -- notice no timezone info -- datetime.now() is \"timezone naive\""
     ]
    },
    {
     "cell_type": "code",
     "collapsed": false,
     "input": [
      "t =  datetime.datetime.now()\n",
      "\n",
      "print t\n",
      "print 'hour  :', t.hour\n",
      "print 'minute:', t.minute\n",
      "print 'second:', t.second\n",
      "print 'microsecond:', t.microsecond\n",
      "print 'tzinfo:', t.tzinfo"
     ],
     "language": "python",
     "metadata": {},
     "outputs": [
      {
       "output_type": "stream",
       "stream": "stdout",
       "text": [
        "2013-03-07 09:52:11.204124\n",
        "hour  : 9\n",
        "minute: 52\n",
        "second: 11\n",
        "microsecond: 204124\n",
        "tzinfo: None\n"
       ]
      }
     ],
     "prompt_number": 2
    },
    {
     "cell_type": "markdown",
     "metadata": {},
     "source": [
      "Similarly -- can get UTC  http://en.wikipedia.org/wiki/Coordinated_Universal_Time"
     ]
    },
    {
     "cell_type": "code",
     "collapsed": false,
     "input": [
      "t = datetime.datetime.utcnow()\n",
      "\n",
      "print t\n",
      "print 'hour  :', t.hour\n",
      "print 'minute:', t.minute\n",
      "print 'second:', t.second\n",
      "print 'microsecond:', t.microsecond\n",
      "print 'tzinfo:', t.tzinfo"
     ],
     "language": "python",
     "metadata": {},
     "outputs": [
      {
       "output_type": "stream",
       "stream": "stdout",
       "text": [
        "2013-03-07 17:52:11.213013\n",
        "hour  : 17\n",
        "minute: 52\n",
        "second: 11\n",
        "microsecond: 213013\n",
        "tzinfo: None\n"
       ]
      }
     ],
     "prompt_number": 3
    },
    {
     "cell_type": "heading",
     "level": 1,
     "metadata": {},
     "source": [
      "time zones"
     ]
    },
    {
     "cell_type": "markdown",
     "metadata": {},
     "source": [
      "I've used pytz for time zones...I think dateutil has similar functionality but not sure"
     ]
    },
    {
     "cell_type": "code",
     "collapsed": false,
     "input": [
      "pytz.utc"
     ],
     "language": "python",
     "metadata": {},
     "outputs": [
      {
       "output_type": "pyout",
       "prompt_number": 4,
       "text": [
        "<UTC>"
       ]
      }
     ],
     "prompt_number": 4
    },
    {
     "cell_type": "code",
     "collapsed": false,
     "input": [
      "# I'm assuming for our purposes here that we are in Pacific time\n",
      "pacific_tz = pytz.timezone('US/Pacific')"
     ],
     "language": "python",
     "metadata": {},
     "outputs": [],
     "prompt_number": 24
    },
    {
     "cell_type": "code",
     "collapsed": false,
     "input": [
      "# make tz-aware datetimes\n",
      "\n",
      "t = pacific_tz.localize(datetime.datetime.now())\n",
      "t_utc = pytz.utc.localize(datetime.datetime.utcnow())\n",
      "\n",
      "print t\n",
      "print 'hour  :', t.hour\n",
      "print 'minute:', t.minute\n",
      "print 'second:', t.second\n",
      "print 'microsecond:', t.microsecond\n",
      "print 'tzinfo:', t.tzinfo\n"
     ],
     "language": "python",
     "metadata": {},
     "outputs": [
      {
       "output_type": "stream",
       "stream": "stdout",
       "text": [
        "2013-03-07 09:56:26.462637-08:00\n",
        "hour  : 9\n",
        "minute: 56\n",
        "second: 26\n",
        "microsecond: 462637\n",
        "tzinfo: US/Pacific\n"
       ]
      }
     ],
     "prompt_number": 25
    },
    {
     "cell_type": "code",
     "collapsed": false,
     "input": [
      "# example of using astimezone to represent in different tz\n",
      "t.astimezone(pytz.utc)"
     ],
     "language": "python",
     "metadata": {},
     "outputs": [
      {
       "output_type": "pyout",
       "prompt_number": 26,
       "text": [
        "datetime.datetime(2013, 3, 7, 17, 56, 26, 462637, tzinfo=<UTC>)"
       ]
      }
     ],
     "prompt_number": 26
    },
    {
     "cell_type": "code",
     "collapsed": false,
     "input": [
      "t, t_utc, t_utc-t, (t_utc-t).total_seconds()"
     ],
     "language": "python",
     "metadata": {},
     "outputs": [
      {
       "output_type": "pyout",
       "prompt_number": 28,
       "text": [
        "(datetime.datetime(2013, 3, 7, 9, 56, 26, 462637, tzinfo=<DstTzInfo 'US/Pacific' PST-1 day, 16:00:00 STD>),\n",
        " datetime.datetime(2013, 3, 7, 17, 56, 26, 462866, tzinfo=<UTC>),\n",
        " datetime.timedelta(0, 0, 229),\n",
        " 0.000229)"
       ]
      }
     ],
     "prompt_number": 28
    },
    {
     "cell_type": "heading",
     "level": 1,
     "metadata": {},
     "source": [
      "time module"
     ]
    },
    {
     "cell_type": "code",
     "collapsed": false,
     "input": [
      "# http://pymotw.com/2/time/index.html\n",
      "\n",
      "time.ctime()"
     ],
     "language": "python",
     "metadata": {},
     "outputs": [
      {
       "output_type": "pyout",
       "prompt_number": 13,
       "text": [
        "'Thu Mar  7 09:52:11 2013'"
       ]
      }
     ],
     "prompt_number": 13
    },
    {
     "cell_type": "code",
     "collapsed": false,
     "input": [
      "# number of seconds since Jan 1, 1970 UTC\n",
      "# http://www.epochconverter.com/\n",
      "time.time()"
     ],
     "language": "python",
     "metadata": {},
     "outputs": [
      {
       "output_type": "pyout",
       "prompt_number": 30,
       "text": [
        "1362679117.391256"
       ]
      }
     ],
     "prompt_number": 30
    },
    {
     "cell_type": "code",
     "collapsed": false,
     "input": [
      "# use of fromtimestamp to convert Unix Epoch time to datetime.datetime\n",
      "datetime.datetime.fromtimestamp(time.time())"
     ],
     "language": "python",
     "metadata": {},
     "outputs": [
      {
       "output_type": "pyout",
       "prompt_number": 33,
       "text": [
        "datetime.datetime(2013, 3, 7, 10, 0, 28, 730465)"
       ]
      }
     ],
     "prompt_number": 33
    },
    {
     "cell_type": "code",
     "collapsed": false,
     "input": [
      "(datetime.datetime.now() - datetime.datetime.fromtimestamp(time.time())).total_seconds()"
     ],
     "language": "python",
     "metadata": {},
     "outputs": [
      {
       "output_type": "pyout",
       "prompt_number": 34,
       "text": [
        "-8e-06"
       ]
      }
     ],
     "prompt_number": 34
    },
    {
     "cell_type": "code",
     "collapsed": false,
     "input": [
      "datetime.datetime(1970,1,1,0,0,0)"
     ],
     "language": "python",
     "metadata": {},
     "outputs": [
      {
       "output_type": "pyout",
       "prompt_number": 35,
       "text": [
        "datetime.datetime(1970, 1, 1, 0, 0)"
       ]
      }
     ],
     "prompt_number": 35
    },
    {
     "cell_type": "code",
     "collapsed": false,
     "input": [
      "datetime.datetime.fromtimestamp(0.0)"
     ],
     "language": "python",
     "metadata": {},
     "outputs": [
      {
       "output_type": "pyout",
       "prompt_number": 37,
       "text": [
        "datetime.datetime(1969, 12, 31, 16, 0)"
       ]
      }
     ],
     "prompt_number": 37
    },
    {
     "cell_type": "code",
     "collapsed": false,
     "input": [
      "# show that if we are Pacific time as local time -- that 0 epoch time UTC\n",
      "pacific_tz.localize(datetime.datetime.fromtimestamp(0.0)).astimezone(pytz.utc)"
     ],
     "language": "python",
     "metadata": {},
     "outputs": [
      {
       "output_type": "pyout",
       "prompt_number": 38,
       "text": [
        "datetime.datetime(1970, 1, 1, 0, 0, tzinfo=<UTC>)"
       ]
      }
     ],
     "prompt_number": 38
    },
    {
     "cell_type": "code",
     "collapsed": false,
     "input": [
      "# http://www.seehuhn.de/pages/pdate\n",
      "# coverting datetime to epoch time\n",
      "t=datetime.datetime.now()\n",
      "timestamp_now = time.mktime(t.timetuple())+1e-6*t.microsecond\n",
      "pacific_tz.localize(datetime.datetime.fromtimestamp(timestamp_now))"
     ],
     "language": "python",
     "metadata": {},
     "outputs": [
      {
       "output_type": "pyout",
       "prompt_number": 39,
       "text": [
        "datetime.datetime(2013, 3, 7, 10, 2, 22, 784013, tzinfo=<DstTzInfo 'US/Pacific' PST-1 day, 16:00:00 STD>)"
       ]
      }
     ],
     "prompt_number": 39
    },
    {
     "cell_type": "heading",
     "level": 1,
     "metadata": {},
     "source": [
      "Any need to hardwire Pacific Time?  No...use tzlocal perhaps"
     ]
    },
    {
     "cell_type": "code",
     "collapsed": false,
     "input": [
      "import dateutil"
     ],
     "language": "python",
     "metadata": {},
     "outputs": [],
     "prompt_number": 20
    },
    {
     "cell_type": "code",
     "collapsed": false,
     "input": [
      "# does tzlocal work?\n",
      "\n",
      "t = datetime.datetime.now(dateutil.tz.tzlocal())\n",
      "t.tzname()"
     ],
     "language": "python",
     "metadata": {},
     "outputs": [
      {
       "output_type": "pyout",
       "prompt_number": 21,
       "text": [
        "'PST'"
       ]
      }
     ],
     "prompt_number": 21
    },
    {
     "cell_type": "code",
     "collapsed": false,
     "input": [
      "t.astimezone(pytz.utc)"
     ],
     "language": "python",
     "metadata": {},
     "outputs": [
      {
       "output_type": "pyout",
       "prompt_number": 22,
       "text": [
        "datetime.datetime(2013, 3, 7, 17, 52, 11, 463657, tzinfo=<UTC>)"
       ]
      }
     ],
     "prompt_number": 22
    }
   ],
   "metadata": {}
  }
 ]
}